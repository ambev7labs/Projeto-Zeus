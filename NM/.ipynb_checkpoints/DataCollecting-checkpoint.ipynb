{
 "cells": [
  {
   "cell_type": "markdown",
   "metadata": {},
   "source": [
    "![alt text](Imagens/7Labs.png \"Title\")"
   ]
  },
  {
   "cell_type": "markdown",
   "metadata": {},
   "source": [
    "Esse código foi criado para realizar a coletar de dados de energia e água presentes nas planilhas de controle de dados da Utilidades e Meio Ambiente da Cervejaria Sete Lagoas no período de 2017 à 2020."
   ]
  },
  {
   "cell_type": "markdown",
   "metadata": {},
   "source": [
    "Primeiramente, realizamos a instalação e o import das bibliotecas necessárias"
   ]
  },
  {
   "cell_type": "code",
   "execution_count": 1,
   "metadata": {},
   "outputs": [
    {
     "name": "stdout",
     "output_type": "stream",
     "text": [
      "Requirement already satisfied: pandas in c:\\users\\heman\\.conda\\envs\\data science\\lib\\site-packages (1.2.3)\n",
      "Requirement already satisfied: python-dateutil>=2.7.3 in c:\\users\\heman\\.conda\\envs\\data science\\lib\\site-packages (from pandas) (2.8.1)\n",
      "Requirement already satisfied: numpy>=1.16.5 in c:\\users\\heman\\.conda\\envs\\data science\\lib\\site-packages (from pandas) (1.19.2)\n",
      "Requirement already satisfied: pytz>=2017.3 in c:\\users\\heman\\.conda\\envs\\data science\\lib\\site-packages (from pandas) (2021.1)\n",
      "Requirement already satisfied: six>=1.5 in c:\\users\\heman\\.conda\\envs\\data science\\lib\\site-packages (from python-dateutil>=2.7.3->pandas) (1.15.0)\n",
      "Requirement already satisfied: matplotlib in c:\\users\\heman\\.conda\\envs\\data science\\lib\\site-packages (3.3.4)\n",
      "Requirement already satisfied: python-dateutil>=2.1 in c:\\users\\heman\\.conda\\envs\\data science\\lib\\site-packages (from matplotlib) (2.8.1)\n",
      "Requirement already satisfied: cycler>=0.10 in c:\\users\\heman\\.conda\\envs\\data science\\lib\\site-packages (from matplotlib) (0.10.0)\n",
      "Requirement already satisfied: kiwisolver>=1.0.1 in c:\\users\\heman\\.conda\\envs\\data science\\lib\\site-packages (from matplotlib) (1.3.1)\n",
      "Requirement already satisfied: pyparsing!=2.0.4,!=2.1.2,!=2.1.6,>=2.0.3 in c:\\users\\heman\\.conda\\envs\\data science\\lib\\site-packages (from matplotlib) (2.4.7)\n",
      "Requirement already satisfied: numpy>=1.15 in c:\\users\\heman\\.conda\\envs\\data science\\lib\\site-packages (from matplotlib) (1.19.2)\n",
      "Requirement already satisfied: pillow>=6.2.0 in c:\\users\\heman\\.conda\\envs\\data science\\lib\\site-packages (from matplotlib) (8.1.2)\n",
      "Requirement already satisfied: six in c:\\users\\heman\\.conda\\envs\\data science\\lib\\site-packages (from cycler>=0.10->matplotlib) (1.15.0)\n",
      "Requirement already satisfied: xlrd in c:\\users\\heman\\.conda\\envs\\data science\\lib\\site-packages (2.0.1)\n",
      "Requirement already satisfied: openpyxl in c:\\users\\heman\\.conda\\envs\\data science\\lib\\site-packages (3.0.7)\n",
      "Requirement already satisfied: et-xmlfile in c:\\users\\heman\\.conda\\envs\\data science\\lib\\site-packages (from openpyxl) (1.0.1)\n"
     ]
    }
   ],
   "source": [
    "!pip install pandas\n",
    "!pip install matplotlib\n",
    "!pip install xlrd\n",
    "!pip install openpyxl"
   ]
  },
  {
   "cell_type": "code",
   "execution_count": 2,
   "metadata": {},
   "outputs": [],
   "source": [
    "import pandas as pd\n",
    "import numpy as np\n",
    "import h5py\n",
    "import matplotlib.pyplot as plt\n",
    "import datetime"
   ]
  },
  {
   "cell_type": "markdown",
   "metadata": {},
   "source": [
    "Configuramos alguns parâmetros de exibição de imagens e tabelas.\n",
    "Além disso, configuramos algumas variáveis necessárias para automatização do fluxo de coleta"
   ]
  },
  {
   "cell_type": "code",
   "execution_count": 3,
   "metadata": {},
   "outputs": [],
   "source": [
    "plt.rcParams['figure.figsize'] = (5.0, 4.0) # set default size of plots\n",
    "plt.rcParams['image.interpolation'] = 'nearest'\n",
    "plt.rcParams['image.cmap'] = 'gray'\n",
    "\n",
    "pd.set_option('max_rows', None)\n",
    "pd.set_option('max_columns', None)\n",
    "\n",
    "Files_Folder = 'Dados/'\n",
    "Ano = ['2017/','2018/','2019/','2020/','2021/']"
   ]
  },
  {
   "cell_type": "markdown",
   "metadata": {},
   "source": [
    "Realiza a leitura de todos os dados de um determinado ano.\n",
    "\n",
    "Compara os nomes das colunas para entender a formação das estruturas de dados\n",
    "\n",
    "*Interessante buscar uma forma de carregar apenas as linhas iniciais do DataFrame para não demorar demais no processamento*"
   ]
  },
  {
   "cell_type": "code",
   "execution_count": 4,
   "metadata": {},
   "outputs": [
    {
     "name": "stdout",
     "output_type": "stream",
     "text": [
      "0\n",
      "1\n",
      "2\n",
      "3\n",
      "4\n",
      "5\n",
      "6\n",
      "7\n",
      "8\n",
      "9\n",
      "10\n",
      "11\n",
      "0\n",
      "1\n",
      "2\n",
      "3\n",
      "4\n",
      "5\n",
      "6\n",
      "7\n",
      "8\n",
      "9\n",
      "10\n",
      "11\n",
      "0\n",
      "1\n",
      "2\n",
      "3\n",
      "4\n",
      "5\n",
      "6\n",
      "7\n",
      "8\n",
      "9\n",
      "10\n",
      "11\n",
      "0\n",
      "1\n",
      "2\n",
      "3\n",
      "4\n",
      "5\n",
      "6\n",
      "7\n",
      "8\n",
      "9\n",
      "10\n",
      "11\n"
     ]
    }
   ],
   "source": [
    "Files_Folder = 'Dados MA/'\n",
    "Ano = ['2017','2018','2019','2020','2021']\n",
    "Mes = ['Jan','Fev','Mar','Abr','Mai','Jun','Jul','Ago','Set','Out','Nov','Dez']\n",
    "\n",
    "my_data_y_MA = pd.DataFrame()\n",
    "\n",
    "for j in range(0,4):\n",
    "    for i in range(0,12):\n",
    "        print(i)\n",
    "        Files_path = Files_Folder +  'Água indice ' + Ano[j] +'.xlsx'\n",
    "        try:\n",
    "            df_y_MA = pd.read_excel(Files_path, sheet_name=Mes[i], skiprows=[0,1,2,4])\n",
    "            df_y_MA_filter = df_y_MA[['Dia','Consumo de Água (m³).1']].copy()\n",
    "\n",
    "            my_data_y_MA = my_data_y_MA.append(df_y_MA_filter, ignore_index = True)\n",
    "        except Exception as e:\n",
    "            print(e)\n",
    "            #            pass"
   ]
  },
  {
   "cell_type": "markdown",
   "metadata": {},
   "source": [
    "Salve a tabela em um arquivo chamado DataBase"
   ]
  },
  {
   "cell_type": "code",
   "execution_count": 5,
   "metadata": {},
   "outputs": [],
   "source": [
    "my_data_y_MA\n",
    "my_data_y_MA = my_data_y_MA.dropna()\n",
    "\n",
    "index = my_data_y_MA[(my_data_y_MA['Dia']=='ACUM') | (my_data_y_MA['Dia']=='Meta acum') | (my_data_y_MA['Dia']=='VALOR REAL') | (my_data_y_MA['Dia']=='BASE HANNA')].index.values\n",
    "my_data_y_MA.drop(index, inplace = True)\n",
    "\n",
    "my_data_y_MA.to_excel(Files_Folder + 'DataBase.xlsx', index = False)"
   ]
  },
  {
   "cell_type": "code",
   "execution_count": null,
   "metadata": {},
   "outputs": [],
   "source": []
  },
  {
   "cell_type": "code",
   "execution_count": null,
   "metadata": {},
   "outputs": [],
   "source": [
    "my_data_y_all = my_data_y.merge(my_data_y_MA, on='Dia', how='outer')\n",
    "my_data = my_data_y_all.merge(my_data_x, on='Dia', how='outer')\n",
    "sorted_df = my_data.sort_values(by='Dia')\n",
    "sorted_df = sorted_df.dropna()\n",
    "sorted_df"
   ]
  },
  {
   "cell_type": "code",
   "execution_count": null,
   "metadata": {},
   "outputs": [],
   "source": []
  },
  {
   "cell_type": "code",
   "execution_count": null,
   "metadata": {},
   "outputs": [],
   "source": [
    "Files_Folder = 'Dados/'\n",
    "path = Files_Folder + 'DataBase.xlsx'\n",
    "dados = pd.read_excel(path)\n",
    "dados = dados.sort_values(\"Dia\", ascending=True)"
   ]
  },
  {
   "cell_type": "code",
   "execution_count": null,
   "metadata": {},
   "outputs": [],
   "source": []
  },
  {
   "cell_type": "code",
   "execution_count": null,
   "metadata": {},
   "outputs": [],
   "source": [
    "my_list_y = pd.DataFrame()\n",
    "my_list_x = pd.DataFrame()\n",
    "my_data_y = pd.DataFrame()\n",
    "my_data_x = pd.DataFrame()\n",
    "\n",
    "for j in range(0,5):\n",
    "    for i in range(1,13):\n",
    "        Files_path = Files_Folder + Ano[j] + '/Planilha de Dados ' + str(i) +'.xlsx'\n",
    "    \n",
    "        try:\n",
    "            # Coleta informações das variáveis dependentes\n",
    "            df_y = pd.read_excel(Files_path, sheet_name='EE_Dados', skiprows=[0,1,3])\n",
    "            df_y_filter = df_y[['Dia','PRINCIPAL (kW)']].copy()\n",
    "        \n",
    "            # Coleta informações das variáveis independentes\n",
    "            df_x = pd.read_excel(Files_path, sheet_name='Prod. Líquida', skiprows=[0,1])\n",
    "            df_x_filter = df_x[['Dia','L501 (696)','L502 (697)','L503 (698)','L511 (699)','L512 (700)','L561 (927)',\n",
    "                                'L562 (928)','563 (964)']].copy().fillna(0)\n",
    "\n",
    "            # Coleta informações das variáveis produção Mosto e CO2\n",
    "    #        df_CO2 = pd.read_excel(Files_path, sheet_name='CO2_Dados', skiprows=[0,1,3])\n",
    "    #        df_CO2_filter = df_CO2[['Consumo - Balanceamento de massa         (Kg)','Volume de Mosto Corrigido para 12 P diário SALA 1Cod,MÊS 72146', Volume de Mosto Corrigido para 12 P diário  SALA 2 Cod,MÊS 7214']].copy()\n",
    "\n",
    "            my_data_y = my_data_y.append(df_y_filter, ignore_index = True)\n",
    "            my_data_x = my_data_x.append(df_x_filter, ignore_index = True)\n",
    "        except Exception as e:\n",
    "            pass"
   ]
  },
  {
   "cell_type": "markdown",
   "metadata": {},
   "source": [
    "Código para filtrar DataFrame baseado em localização de um valor específico"
   ]
  },
  {
   "cell_type": "code",
   "execution_count": null,
   "metadata": {},
   "outputs": [],
   "source": [
    "my_data_y = my_data_y.dropna()\n",
    "index = my_data_y[(my_data_y['Dia']=='Acc') | (my_data_y['Dia']=='DIF.(%)') | (my_data_y['Dia']=='Acum') | (my_data_y['Dia']==1) | (my_data_y['PRINCIPAL (kW)']==0)].index.values\n",
    "my_data_y.drop(index, inplace = True)\n",
    "\n",
    "index = my_data_x[(my_data_x['Dia']=='Acc') | (my_data_x['Dia']=='DIF.(%)') | (my_data_x['Dia']=='Acum') | (my_data_x['Dia']==1) | (my_data_x['Dia']==0)].index.values\n",
    "my_data_x.drop(index, inplace = True)"
   ]
  },
  {
   "cell_type": "code",
   "execution_count": null,
   "metadata": {},
   "outputs": [],
   "source": [
    "#my_data = my_data[1:30]\n",
    "my_data_y['Dia'] = pd.to_datetime(my_data_y['Dia'])\n",
    "sorted_df_y = my_data_y.sort_values(by='Dia')\n",
    "\n",
    "my_data_x['Dia'] = pd.to_datetime(my_data_x['Dia'])\n",
    "sorted_df_x = my_data_x.sort_values(by='Dia')"
   ]
  },
  {
   "cell_type": "code",
   "execution_count": null,
   "metadata": {},
   "outputs": [],
   "source": [
    "my_data = my_data_y.merge(my_data_x, on='Dia', how='outer')\n",
    "sorted_df = my_data.sort_values(by='Dia')\n",
    "sorted_df = sorted_df.dropna()\n",
    "sorted_df = sorted_df.rename(columns = {\"Consumo de Água (m³).1\":\"Consumo de Água\"})"
   ]
  },
  {
   "cell_type": "markdown",
   "metadata": {},
   "source": [
    "Código para gravação de arquivo excel"
   ]
  },
  {
   "cell_type": "code",
   "execution_count": null,
   "metadata": {},
   "outputs": [],
   "source": [
    "sorted_df.to_excel(Files_Folder + 'DataBase.xlsx', index = False)"
   ]
  }
 ],
 "metadata": {
  "kernelspec": {
   "display_name": "Python 3",
   "language": "python",
   "name": "python3"
  },
  "language_info": {
   "codemirror_mode": {
    "name": "ipython",
    "version": 3
   },
   "file_extension": ".py",
   "mimetype": "text/x-python",
   "name": "python",
   "nbconvert_exporter": "python",
   "pygments_lexer": "ipython3",
   "version": "3.8.5"
  }
 },
 "nbformat": 4,
 "nbformat_minor": 4
}

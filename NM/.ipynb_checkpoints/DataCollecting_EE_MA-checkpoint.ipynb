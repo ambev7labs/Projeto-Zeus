{
 "cells": [
  {
   "cell_type": "markdown",
   "metadata": {},
   "source": [
    "![alt text](Imagens/7Labs.png \"Title\")"
   ]
  },
  {
   "cell_type": "markdown",
   "metadata": {},
   "source": [
    "Esse código foi criado para realizar a coletar de dados de energia e água presentes nas planilhas de controle de dados da Utilidades e Meio Ambiente da Cervejaria Sete Lagoas no período de 2017 à 2020."
   ]
  },
  {
   "cell_type": "markdown",
   "metadata": {},
   "source": [
    "Primeiramente, realizamos a instalação e o import das bibliotecas necessárias"
   ]
  },
  {
   "cell_type": "code",
   "execution_count": null,
   "metadata": {},
   "outputs": [],
   "source": [
    "!pip install pandas\n",
    "!pip install matplotlib\n",
    "!pip install xlrd\n",
    "!pip install openpyxl"
   ]
  },
  {
   "cell_type": "code",
   "execution_count": null,
   "metadata": {},
   "outputs": [],
   "source": [
    "import pandas as pd\n",
    "import numpy as np\n",
    "import h5py\n",
    "import matplotlib.pyplot as plt\n",
    "import datetime"
   ]
  },
  {
   "cell_type": "markdown",
   "metadata": {},
   "source": [
    "Configuramos alguns parâmetros de exibição de imagens e tabelas.\n",
    "Além disso, configuramos algumas variáveis necessárias para automatização do fluxo de coleta"
   ]
  },
  {
   "cell_type": "code",
   "execution_count": null,
   "metadata": {},
   "outputs": [],
   "source": [
    "plt.rcParams['figure.figsize'] = (5.0, 4.0) # set default size of plots\n",
    "plt.rcParams['image.interpolation'] = 'nearest'\n",
    "plt.rcParams['image.cmap'] = 'gray'\n",
    "\n",
    "pd.set_option('max_rows', None)\n",
    "pd.set_option('max_columns', None)\n",
    "\n",
    "Files_Folder = 'Dados/'\n",
    "Ano = ['2017','2018','2019','2020','2021']\n",
    "Mes = ['Jan','Fev','Mar','Abr','Mai','Jun','Jul','Ago','Set','Out','Nov','Dez']"
   ]
  },
  {
   "cell_type": "markdown",
   "metadata": {},
   "source": [
    "Realiza a leitura de todos os dados relativos à PL, EE e Consumo de Água no intervalo de 2017 à 2021"
   ]
  },
  {
   "cell_type": "code",
   "execution_count": null,
   "metadata": {},
   "outputs": [],
   "source": [
    "my_data_y_EE = pd.DataFrame()\n",
    "my_data_x = pd.DataFrame()\n",
    "\n",
    "for j in range(0,4):\n",
    "    for i in range(0,12):\n",
    "        Files_path_MA = Files_Folder + 'MA/Água indice ' + Ano[j] +'.xlsx'\n",
    "        Files_path_EE = Files_Folder + \"EE/\" + Ano[j] + '/Planilha de Dados ' + str(i) +'.xlsx'\n",
    "    \n",
    "        try:\n",
    "            # Coleta informações das variáveis dependentes (EE)\n",
    "            df_y_EE = pd.read_excel(Files_path_EE, sheet_name='EE_Dados', skiprows=[0,1,3])\n",
    "            df_y_EE_filter = df_y_EE[['Dia','PRINCIPAL (kW)']].copy()\n",
    "\n",
    "            # Coleta informações das variáveis dependentes (MA)\n",
    "            df_y_MA = pd.read_excel(Files_path_MA, sheet_name=Mes[i], skiprows=[0,1,2,4])\n",
    "            df_y_MA_filter = df_y_MA[['Dia','Consumo de Água (m³).1']].copy()\n",
    "        \n",
    "            # Coleta informações das variáveis independentes\n",
    "            df_x = pd.read_excel(Files_path_EE, sheet_name='Prod. Líquida', skiprows=[0,1])\n",
    "            df_x_filter = df_x[['Dia','L501 (696)','L502 (697)','L503 (698)','L511 (699)','L512 (700)','L561 (927)',\n",
    "                                'L562 (928)','563 (964)']].copy().fillna(0)\n",
    "\n",
    "            \n",
    "            my_data_y_EE = my_data_y_EE.append(df_y_EE_filter, ignore_index = True)\n",
    "            my_data_y_MA = my_data_y_MA.append(df_y_MA_filter, ignore_index = True)\n",
    "            my_data_x = my_data_x.append(df_x_filter, ignore_index = True)\n",
    "        except Exception as e:\n",
    "            pass"
   ]
  },
  {
   "cell_type": "markdown",
   "metadata": {},
   "source": [
    "Remove NA e dados inconsistentes das bases de dados"
   ]
  },
  {
   "cell_type": "code",
   "execution_count": null,
   "metadata": {},
   "outputs": [],
   "source": [
    "my_data_y_EE = my_data_y_EE.dropna()\n",
    "index = my_data_y_EE[(my_data_y_EE['Dia']=='Acc') | (my_data_y_EE['Dia']=='DIF.(%)') | (my_data_y_EE['Dia']=='Acum') | (my_data_y_EE['Dia']==1) | (my_data_y_EE['PRINCIPAL (kW)']==0)].index.values\n",
    "my_data_y_EE.drop(index, inplace = True)\n",
    "\n",
    "my_data_y_MA = my_data_y_MA.dropna()\n",
    "index = my_data_y_MA[(my_data_y_MA['Dia']=='ACUM') | (my_data_y_MA['Dia']=='Meta acum') | (my_data_y_MA['Dia']=='VALOR REAL') | (my_data_y_MA['Dia']=='BASE HANNA')].index.values\n",
    "my_data_y_MA.drop(index, inplace = True)\n",
    "\n",
    "index = my_data_x[(my_data_x['Dia']=='Acc') | (my_data_x['Dia']=='DIF.(%)') | (my_data_x['Dia']=='Acum') | (my_data_x['Dia']==1) | (my_data_x['Dia']==0)].index.values\n",
    "my_data_x.drop(index, inplace = True)"
   ]
  },
  {
   "cell_type": "markdown",
   "metadata": {},
   "source": [
    "Ordena os dados de todas as planilhas segundo as datas dos dias em que ocorreram"
   ]
  },
  {
   "cell_type": "code",
   "execution_count": null,
   "metadata": {},
   "outputs": [],
   "source": [
    "my_data_y_EE['Dia'] = pd.to_datetime(my_data_y_EE['Dia'])\n",
    "sorted_df_y_EE = my_data_y_EE.sort_values(by='Dia')\n",
    "\n",
    "my_data_y_MA['Dia'] = pd.to_datetime(my_data_y_MA['Dia'])\n",
    "sorted_df_y_MA = my_data_y_MA.sort_values(by='Dia')\n",
    "\n",
    "my_data_x['Dia'] = pd.to_datetime(my_data_x['Dia'])\n",
    "sorted_df_x = my_data_x.sort_values(by='Dia')"
   ]
  },
  {
   "cell_type": "markdown",
   "metadata": {},
   "source": [
    "Faz uma união de todas as tabelas coletadas"
   ]
  },
  {
   "cell_type": "code",
   "execution_count": null,
   "metadata": {},
   "outputs": [],
   "source": [
    "my_data = my_data_y_EE.merge(my_data_y_MA, on='Dia', how='outer')\n",
    "my_data = my_data.merge(my_data_x, on='Dia', how='outer')\n",
    "sorted_df = my_data.sort_values(by='Dia')\n",
    "sorted_df = sorted_df.dropna()\n",
    "sorted_df"
   ]
  },
  {
   "cell_type": "markdown",
   "metadata": {},
   "source": [
    "Grava os dados obtidos em um arquivo excel"
   ]
  },
  {
   "cell_type": "code",
   "execution_count": null,
   "metadata": {},
   "outputs": [],
   "source": [
    "sorted_df.to_excel(Files_Folder + 'DataBase.xlsx', index = False)"
   ]
  },
  {
   "cell_type": "code",
   "execution_count": null,
   "metadata": {},
   "outputs": [],
   "source": [
    "sorted_df.shape"
   ]
  }
 ],
 "metadata": {
  "kernelspec": {
   "display_name": "Python 3",
   "language": "python",
   "name": "python3"
  },
  "language_info": {
   "codemirror_mode": {
    "name": "ipython",
    "version": 3
   },
   "file_extension": ".py",
   "mimetype": "text/x-python",
   "name": "python",
   "nbconvert_exporter": "python",
   "pygments_lexer": "ipython3",
   "version": "3.8.8"
  }
 },
 "nbformat": 4,
 "nbformat_minor": 4
}
